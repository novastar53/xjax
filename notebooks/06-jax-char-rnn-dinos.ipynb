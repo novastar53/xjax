{
 "cells": [
  {
   "cell_type": "markdown",
   "metadata": {},
   "source": [
    "## A Basic Character RNN Trained to Generate Novel Dinosaur Names"
   ]
  },
  {
   "cell_type": "markdown",
   "metadata": {},
   "source": [
    "### Let's start by reading the dinosaur names dataset and extracting all the names"
   ]
  },
  {
   "cell_type": "code",
   "execution_count": 1,
   "metadata": {},
   "outputs": [],
   "source": [
    "\n",
    "text = open(\"../datasets/dinos.txt\", \"r\").read()\n",
    "lines = text.split(\"\\n\")\n",
    "lines = [ l.strip().lower() for l in lines ]"
   ]
  },
  {
   "cell_type": "code",
   "execution_count": 2,
   "metadata": {},
   "outputs": [
    {
     "name": "stdout",
     "output_type": "stream",
     "text": [
      "Looks like we have 1536 dinosaur names in the dataset\n"
     ]
    }
   ],
   "source": [
    "print(f\"Looks like we have {len(lines)} dinosaur names in the dataset\")"
   ]
  },
  {
   "cell_type": "markdown",
   "metadata": {},
   "source": [
    "### Let's look at a few dinosaur names"
   ]
  },
  {
   "cell_type": "code",
   "execution_count": 3,
   "metadata": {},
   "outputs": [
    {
     "data": {
      "text/plain": [
       "['aachenosaurus',\n",
       " 'aardonyx',\n",
       " 'abdallahsaurus',\n",
       " 'abelisaurus',\n",
       " 'abrictosaurus',\n",
       " 'abrosaurus',\n",
       " 'abydosaurus',\n",
       " 'acanthopholis',\n",
       " 'achelousaurus',\n",
       " 'acheroraptor']"
      ]
     },
     "execution_count": 3,
     "metadata": {},
     "output_type": "execute_result"
    }
   ],
   "source": [
    "lines[:10]"
   ]
  },
  {
   "cell_type": "markdown",
   "metadata": {},
   "source": [
    "### Since we'll be training a character RNN, let's tokenize the data by character"
   ]
  },
  {
   "cell_type": "code",
   "execution_count": 4,
   "metadata": {},
   "outputs": [],
   "source": [
    "# First, generate a vocabulary\n",
    "counts = {}\n",
    "for line in lines:\n",
    "    chars = list(line)\n",
    "    for c in chars:\n",
    "        if c not in counts:\n",
    "            counts[c] = 1\n",
    "        else:\n",
    "            counts[c] += 1\n",
    "\n",
    "vocab = sorted(list(counts.keys()))\n",
    "\n",
    "VOCAB_SIZE = len(vocab) + 1\n",
    "\n",
    "# Then create token lookup indices\n",
    "tok_to_idx = {}\n",
    "idx_to_tok = {}\n",
    "\n",
    "for i,c in enumerate(vocab):\n",
    "    tok_to_idx[c] = i\n",
    "    idx_to_tok[i] = c\n",
    "\n",
    "\n",
    "# Add a stop character to the token index lookup\n",
    "tok_to_idx[\"@\"] = VOCAB_SIZE - 1\n",
    "idx_to_tok[VOCAB_SIZE - 1] = \"@\"\n"
   ]
  },
  {
   "cell_type": "markdown",
   "metadata": {},
   "source": [
    "### Now let's generate the training data. \n",
    "Since this is a sequence to sequence model, it has to learn to predict the next token in the sequence. Each training example therefore consists of an input sequence of tokens. The label is just the same sequence shifted to the right by a single token."
   ]
  },
  {
   "cell_type": "code",
   "execution_count": 5,
   "metadata": {},
   "outputs": [],
   "source": [
    "import jax.numpy as jnp\n",
    "\n",
    "#Generate the dataset \n",
    "X = []\n",
    "Y = []\n",
    "for line in lines:\n",
    "    tokens = [ tok_to_idx[c] for c in line ]\n",
    "    X.append(jnp.array([VOCAB_SIZE] + tokens))\n",
    "    Y.append(jnp.array(tokens + [VOCAB_SIZE]))\n"
   ]
  },
  {
   "cell_type": "markdown",
   "metadata": {},
   "source": [
    "### Next, let's train the model. \n",
    "\n",
    "This is a simple RNN model. Its key feature is a vector $ h_t $, called the \"hidden state\", which remembers the context from the previous tokens in the input sequence. Observe that the output $ y_t $ is a function of the previous hidden state $ h_{t-1} $. This is what enables it to learn to predict the next token in a sequence. \n",
    "\n",
    "The input $ x_t $ is a one-hot vector that encodes the input token. \n"
   ]
  },
  {
   "cell_type": "markdown",
   "metadata": {},
   "source": [
    "$$ \\begin{align} h_t = tanh((W_{hx}x_{t} + W_{hh}h_{t-1}) + b_h) \\\\\n",
    "y_t = softmax(W_{yh}h_t + b_y)  \\end{align} $$"
   ]
  },
  {
   "cell_type": "markdown",
   "metadata": {},
   "source": [
    "It can also be interpreted as a two layer neural network. The input to the network can now be seen as a single vector consisting of the current token $ x_t $ and the hidden state $ h_{t-1} $, representing the previous tokens in the sequence already seen by the model. "
   ]
  },
  {
   "cell_type": "markdown",
   "metadata": {},
   "source": [
    "$$ \\begin{align} h_t = tanh( \\begin{bmatrix} W_{hx} W_{hh} \\end{bmatrix} \\begin{bmatrix} x_t \\\\ h_{t-1} \\end{bmatrix} + b_h) \\\\ \n",
    "y_t = softmax(W_{yh}h_t + b_y)  \\end{align} $$"
   ]
  },
  {
   "cell_type": "code",
   "execution_count": 59,
   "metadata": {},
   "outputs": [],
   "source": [
    "import logging\n",
    "\n",
    "import jax\n",
    "import xjax\n",
    "from xjax.signals import train_epoch_completed\n",
    "\n",
    "# Module logger\n",
    "logger = logging.getLogger(__name__)\n",
    "\n",
    "# Define hyperparameters\n",
    "HIDDEN_SIZE = 100\n",
    "VOCAB_SIZE = len(tok_to_idx)\n",
    "learning_rate = 0.01\n",
    "max_grad = 20\n",
    "epochs = 100\n",
    "\n",
    "rng = jax.random.key(42)\n",
    "\n",
    "# I define a character-rnn model\n",
    "params, model = xjax.models.char_rnn.char_rnn(rng, 27, HIDDEN_SIZE)\n",
    "\n",
    "# I log events\n",
    "@train_epoch_completed.connect_via(model)\n",
    "def collect_events(_, *, epoch, loss, elapsed, **__):\n",
    "    logger.info(f\"epoch={epoch}, loss={loss:0.4f}, elapsed={elapsed:0.4f}\")\n",
    "\n",
    "# I train a character RNN model on the data \n",
    "trained_params = xjax.models.char_rnn.train(model, rng=rng, params=params, \n",
    "                                            X_train=X, Y_train=Y, \n",
    "                                            vocab_size=VOCAB_SIZE, \n",
    "                                            epochs=epochs, \n",
    "                                            learning_rate=learning_rate,\n",
    "                                            max_grad=max_grad)\n",
    "\n"
   ]
  },
  {
   "cell_type": "markdown",
   "metadata": {},
   "source": [
    "### Finally, let's look at what the model learned\n",
    "Ideally, the model should have learned to generate plausible-sounding dinosaur names. "
   ]
  },
  {
   "cell_type": "code",
   "execution_count": 64,
   "metadata": {},
   "outputs": [],
   "source": [
    "prefix_str = \"a\"\n",
    "prefix = [tok_to_idx[c] for c in prefix_str]\n",
    "generated = []\n",
    "for i in range(30):\n",
    "    rng, sub_rng = jax.random.split(rng)\n",
    "    y = xjax.models.char_rnn.generate(rng=sub_rng, prefix= prefix, params=trained_params, hidden_size=HIDDEN_SIZE, vocab_size=VOCAB_SIZE) \n",
    "    generated.append(y)"
   ]
  },
  {
   "cell_type": "code",
   "execution_count": 65,
   "metadata": {},
   "outputs": [
    {
     "name": "stdout",
     "output_type": "stream",
     "text": [
      "adreuhoodotopti\n",
      "anuupacoron\n",
      "adriurhon\n",
      "amubyosaurus\n",
      "anuuchabioazasaurus\n",
      "adrutos\n",
      "anuunodosaurus\n",
      "anagyacaueus\n",
      "anuunarztosrus\n",
      "acrannhonasaurus\n",
      "arunann\n",
      "anuenoazapazazazasaurus\n",
      "adrironzaolopsaurus\n",
      "aurives\n",
      "adroroyosaura\n",
      "apriurdorosaurus\n",
      "aupanaa\n",
      "amuanosrus\n",
      "anuunonus\n",
      "anuunoros\n",
      "anuuynyztodorodus\n",
      "acrunomomorytosaurus\n",
      "anuuyeldeus\n",
      "aucanoa\n",
      "acryusasaurus\n",
      "anuiuerzazazasaurus\n",
      "anuunweus\n",
      "anyunausaurus\n",
      "arurnomolus\n",
      "anuuuoros\n"
     ]
    }
   ],
   "source": [
    "for g in generated:\n",
    "    print(\"\".join([idx_to_tok[i] for i in g[:-1]]))"
   ]
  },
  {
   "cell_type": "markdown",
   "metadata": {},
   "source": [
    "Some of these look plausible. It seems to have figured out that dinosaur names tend to end with an 'rus'"
   ]
  },
  {
   "cell_type": "markdown",
   "metadata": {},
   "source": []
  }
 ],
 "metadata": {
  "kernelspec": {
   "display_name": ".venv",
   "language": "python",
   "name": "python3"
  },
  "language_info": {
   "codemirror_mode": {
    "name": "ipython",
    "version": 3
   },
   "file_extension": ".py",
   "mimetype": "text/x-python",
   "name": "python",
   "nbconvert_exporter": "python",
   "pygments_lexer": "ipython3",
   "version": "3.12.4"
  }
 },
 "nbformat": 4,
 "nbformat_minor": 2
}
