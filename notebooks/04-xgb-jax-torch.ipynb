{
 "cells": [
  {
   "cell_type": "markdown",
   "id": "950381f0-23f7-4d50-803c-58793d292fa7",
   "metadata": {},
   "source": [
    "# Comparing XGB, Jax, Torch\n",
    "\n",
    "Compare MLPs in Jax and Torch against XGB."
   ]
  },
  {
   "cell_type": "markdown",
   "id": "dd556b3c-0b40-4531-81bb-a5c74a89e8e8",
   "metadata": {},
   "source": [
    "# Setup"
   ]
  },
  {
   "cell_type": "code",
   "execution_count": null,
   "id": "938bd506-4391-4570-8552-53ac9a414d6b",
   "metadata": {},
   "outputs": [],
   "source": [
    "from time import time\n",
    "\n",
    "import jax\n",
    "import seaborn as sns\n",
    "import wandb\n",
    "from IPython.display import clear_output\n",
    "from matplotlib import pyplot as plt\n",
    "from sklearn.metrics import roc_auc_score, roc_curve\n",
    "from sklearn.model_selection import train_test_split\n",
    "\n",
    "import xjax\n",
    "from xjax.signals import train_epoch_completed"
   ]
  },
  {
   "cell_type": "code",
   "execution_count": null,
   "id": "c34d5633-77f6-4339-834c-e0c4cc525765",
   "metadata": {},
   "outputs": [],
   "source": [
    "rng = jax.random.key(xjax.tools.seed())"
   ]
  },
  {
   "cell_type": "code",
   "execution_count": null,
   "id": "719bba7c-7f40-46fe-9704-e9f4ea4e864f",
   "metadata": {},
   "outputs": [],
   "source": [
    "capture_metrics = False"
   ]
  },
  {
   "cell_type": "markdown",
   "id": "8fe0cacd-4f54-4a16-93dc-da892b36addc",
   "metadata": {},
   "source": [
    "# Config"
   ]
  },
  {
   "cell_type": "code",
   "execution_count": null,
   "id": "6eab267f-93be-464e-b383-46c07dc106f8",
   "metadata": {},
   "outputs": [],
   "source": [
    "# Hyperparameters\n",
    "n_samples = 10000\n",
    "hiddens = [5, 5, 5]\n",
    "batch_size = 10\n",
    "epochs = 10\n",
    "learning_rate = 0.01"
   ]
  },
  {
   "cell_type": "code",
   "execution_count": null,
   "id": "ad06992d-e5fd-4d59-ac55-37dc44d76f2c",
   "metadata": {},
   "outputs": [],
   "source": [
    "if capture_metrics:\n",
    "    wandb.init(\n",
    "        project=\"xgb-jax-torch\",\n",
    "        config={\n",
    "            \"n_samples\": n_samples,\n",
    "            \"hiddens\": hiddens,\n",
    "            \"batch_size\": batch_size,\n",
    "            \"epochs\": epochs,\n",
    "            \"learning_rate\": learning_rate,\n",
    "        },\n",
    "    )"
   ]
  },
  {
   "cell_type": "markdown",
   "id": "779c763c-6254-47d1-a3c3-239601a950e7",
   "metadata": {},
   "source": [
    "# Dataset"
   ]
  },
  {
   "cell_type": "code",
   "execution_count": null,
   "id": "faf314a9-2112-4fac-be94-90389447f8aa",
   "metadata": {},
   "outputs": [],
   "source": [
    "# Generate circle dataset\n",
    "rng, dataset_rng = jax.random.split(rng)\n",
    "X, y = xjax.datasets.sphere(rng=dataset_rng, n=n_samples)\n",
    "\n",
    "# Split into train and test\n",
    "X_train, X_test, y_train, y_test = train_test_split(X, y, test_size=0.3)"
   ]
  },
  {
   "cell_type": "code",
   "execution_count": null,
   "id": "8af09071-9276-403b-b95d-a28e128552dc",
   "metadata": {},
   "outputs": [],
   "source": [
    "fig = plt.figure()\n",
    "\n",
    "mask = y == 1.0\n",
    "X_positive = X[mask]\n",
    "y_positive = y[mask]\n",
    "ax = fig.add_subplot(projection=\"3d\")\n",
    "ax.scatter(X_positive[:, 0], X_positive[:, 1], X_positive[:, 2])"
   ]
  },
  {
   "cell_type": "code",
   "execution_count": null,
   "id": "bd0739b0-9cb1-45df-a104-d950ee98b494",
   "metadata": {},
   "outputs": [],
   "source": [
    "X_train.devices()"
   ]
  },
  {
   "cell_type": "markdown",
   "id": "a3aa5330-fd1e-4a53-8ad3-7cb15d5bd536",
   "metadata": {},
   "source": [
    "# Modeling"
   ]
  },
  {
   "cell_type": "markdown",
   "id": "1a4fbce2-8a6c-4aa4-be1c-2764c919681a",
   "metadata": {},
   "source": [
    "## XGB"
   ]
  },
  {
   "cell_type": "code",
   "execution_count": null,
   "id": "39b12aa9-0162-472e-9b2a-f9de1d4416a2",
   "metadata": {},
   "outputs": [],
   "source": [
    "# Construct model\n",
    "model_xgb = xjax.models.sklearn.xgb_classifier(device=\"cuda\")"
   ]
  },
  {
   "cell_type": "code",
   "execution_count": null,
   "id": "4116bced-0976-4785-b52d-98355d8c69b4",
   "metadata": {},
   "outputs": [],
   "source": [
    "# Train model\n",
    "start_time = time()\n",
    "model_xgb = xjax.models.sklearn.train(model_xgb, X=X_train, y=y_train)\n",
    "elapsed = time() - start_time\n",
    "\n",
    "if capture_metrics:\n",
    "    wandb.log({\"elapsed_xgb\": elapsed})"
   ]
  },
  {
   "cell_type": "code",
   "execution_count": null,
   "id": "decf3cdf-3777-4c62-964d-995553481e6f",
   "metadata": {},
   "outputs": [],
   "source": [
    "# Test model\n",
    "y_score_xgb = xjax.models.sklearn.predict(model_xgb, X=X_test)\n",
    "auroc_xgb = roc_auc_score(y_test, y_score_xgb)\n",
    "\n",
    "if capture_metrics:\n",
    "    wandb.log({\"auroc_xgb\": auroc_xgb})\n",
    "\n",
    "print(f\"XGB AUROC: {auroc_xgb:0.4f}\")"
   ]
  },
  {
   "cell_type": "markdown",
   "id": "9d2b8447-7f3b-45a4-adf1-466355daa1c6",
   "metadata": {},
   "source": [
    "## Jax"
   ]
  },
  {
   "cell_type": "code",
   "execution_count": null,
   "id": "dfbaf242-4519-45a7-9119-23192e316de0",
   "metadata": {},
   "outputs": [],
   "source": [
    "# Construct model\n",
    "rng, model_rng = jax.random.split(rng)\n",
    "model_jax, params = xjax.models.flax.mlp(rng=model_rng, inputs=3, hiddens=hiddens)"
   ]
  },
  {
   "cell_type": "code",
   "execution_count": null,
   "id": "6f81c74f-2b87-4ee3-9bce-6e085ece3c2b",
   "metadata": {},
   "outputs": [],
   "source": [
    "# Monitor model\n",
    "@train_epoch_completed.connect_via(model_jax)\n",
    "def monitor_model(model, epoch, loss, **_):\n",
    "    elapsed = time() - start_time\n",
    "    loss_hx.append(loss)\n",
    "    xjax.plots.loss_history(loss_hx, elapsed=elapsed)\n",
    "\n",
    "    print(f\"loss: {loss.devices()}\")\n",
    "\n",
    "    if capture_metrics:\n",
    "        wandb.log({\"epoch\": epoch, \"loss_jax\": loss, \"elapsed_jax\": elapsed})"
   ]
  },
  {
   "cell_type": "code",
   "execution_count": null,
   "id": "86ef8af2-91f7-4c59-8401-ceefa7ad9e69",
   "metadata": {},
   "outputs": [],
   "source": [
    "start_time = time()\n",
    "loss_hx = []\n",
    "\n",
    "# Train model\n",
    "params = xjax.models.flax.train(\n",
    "    model_jax,\n",
    "    params=params,\n",
    "    X=X_train,\n",
    "    y=y_train,\n",
    "    batch_size=batch_size,\n",
    "    epochs=epochs,\n",
    "    learning_rate=learning_rate,\n",
    ")"
   ]
  },
  {
   "cell_type": "code",
   "execution_count": null,
   "id": "c7ccfc05-c382-4c91-8c35-c5bd868f9706",
   "metadata": {},
   "outputs": [],
   "source": [
    "# Test model\n",
    "y_score_jax = xjax.models.flax.predict(model_jax, params=params, X=X_test)\n",
    "auroc_jax = roc_auc_score(y_test, y_score_jax)\n",
    "\n",
    "if capture_metrics:\n",
    "    wandb.log({\"auroc_jax\": auroc_jax})\n",
    "\n",
    "print(f\"Jax AUROC: {auroc_jax:0.4f}\")"
   ]
  },
  {
   "cell_type": "markdown",
   "id": "156cccff-3811-4e69-9cc3-a7468733a3ea",
   "metadata": {},
   "source": [
    "## Torch"
   ]
  },
  {
   "cell_type": "code",
   "execution_count": null,
   "id": "72569dd0-b1d4-4a89-aab8-1af813b2f3c0",
   "metadata": {},
   "outputs": [],
   "source": [
    "# Construct model\n",
    "model_torch = xjax.models.torch.mlp(inputs=3, hiddens=hiddens)"
   ]
  },
  {
   "cell_type": "code",
   "execution_count": null,
   "id": "16ab492e-5d52-4f34-a0fb-257fe4cd427c",
   "metadata": {},
   "outputs": [],
   "source": [
    "# Monitor model\n",
    "@train_epoch_completed.connect_via(model_torch)\n",
    "def monitor_model(model, epoch, loss, **_):\n",
    "    loss = loss.detach().numpy()\n",
    "    elapsed = time() - start_time\n",
    "\n",
    "    loss_hx.append(loss)\n",
    "    xjax.plots.loss_history(loss_hx, elapsed=elapsed)\n",
    "\n",
    "    if capture_metrics:\n",
    "        wandb.log({\"epoch\": epoch, \"loss_torch\": loss, \"elapsed_torch\": elapsed})"
   ]
  },
  {
   "cell_type": "code",
   "execution_count": null,
   "id": "76b20a61-d7ae-4146-a287-9e13ad9308db",
   "metadata": {},
   "outputs": [],
   "source": [
    "start_time = time()\n",
    "loss_hx = []\n",
    "\n",
    "# Train model\n",
    "model_torch = xjax.models.torch.train(\n",
    "    model_torch,\n",
    "    X=X_train,\n",
    "    y=y_train,\n",
    "    batch_size=batch_size,\n",
    "    epochs=epochs,\n",
    "    learning_rate=learning_rate,\n",
    ")"
   ]
  },
  {
   "cell_type": "code",
   "execution_count": null,
   "id": "c76a36d1-3b87-48de-b32a-6fb1aa0a860d",
   "metadata": {},
   "outputs": [],
   "source": [
    "# Test model\n",
    "y_score_torch = xjax.models.torch.predict(model_torch, X=X_test)\n",
    "auroc_torch = roc_auc_score(y_test, y_score_torch)\n",
    "\n",
    "if capture_metrics:\n",
    "    wandb.log({\"auroc_torch\": auroc_torch})\n",
    "\n",
    "print(f\"Torch AUROC: {auroc_torch:0.4f}\")"
   ]
  },
  {
   "cell_type": "markdown",
   "id": "7e059a6e-8982-4325-8197-3927f9dc7913",
   "metadata": {},
   "source": [
    "# Analysis"
   ]
  },
  {
   "cell_type": "markdown",
   "id": "049f2d31-1175-4756-b3d0-31093c03a25d",
   "metadata": {},
   "source": [
    "## Predictions"
   ]
  },
  {
   "cell_type": "code",
   "execution_count": null,
   "id": "9e6c6408-974f-43c9-ba30-30dcca81576c",
   "metadata": {
    "jupyter": {
     "source_hidden": true
    }
   },
   "outputs": [],
   "source": [
    "y_pred_xgb = (y_score_xgb > 0.5).astype(int)\n",
    "y_pred_jax = (y_score_jax > 0.5).astype(int)\n",
    "y_pred_torch = (y_score_torch > 0.5).numpy().astype(int)\n",
    "\n",
    "fig = plt.figure()\n",
    "fig.set_size_inches(16, 4)\n",
    "\n",
    "mask = y_test == 1.0\n",
    "X_positive = X_test[mask]\n",
    "ax = fig.add_subplot(141, projection=\"3d\")\n",
    "ax.scatter(X_positive[:, 0], X_positive[:, 1], X_positive[:, 2])\n",
    "ax.set_title(\"Truth\")\n",
    "\n",
    "mask = y_pred_xgb == 1.0\n",
    "X_positive = X_test[mask]\n",
    "ax = fig.add_subplot(142, projection=\"3d\")\n",
    "ax.scatter(X_positive[:, 0], X_positive[:, 1], X_positive[:, 2])\n",
    "ax.set_title(\"XGB\")\n",
    "\n",
    "mask = y_pred_jax == 1.0\n",
    "X_positive = X_test[mask]\n",
    "ax = fig.add_subplot(143, projection=\"3d\")\n",
    "ax.scatter(X_positive[:, 0], X_positive[:, 1], X_positive[:, 2])\n",
    "ax.set_title(\"Jax\")\n",
    "\n",
    "mask = y_pred_torch == 1.0\n",
    "X_positive = X_test[mask]\n",
    "ax = fig.add_subplot(144, projection=\"3d\")\n",
    "ax.scatter(X_positive[:, 0], X_positive[:, 1], X_positive[:, 2])\n",
    "ax.set_title(\"Torch\")\n",
    "\n",
    "if capture_metrics:\n",
    "    wandb.log({\"predictions\": wandb.Image(plt)})"
   ]
  },
  {
   "cell_type": "markdown",
   "id": "57d597e5-ac2d-473b-94b8-6c2e5bf96ba5",
   "metadata": {},
   "source": [
    "## ROC Curves"
   ]
  },
  {
   "cell_type": "code",
   "execution_count": null,
   "id": "777e8915-bbec-4ba3-8eab-b24234419c3e",
   "metadata": {
    "jupyter": {
     "source_hidden": true
    }
   },
   "outputs": [],
   "source": [
    "fpr_xgb, tpr_xgb, _ = roc_curve(y_test, y_score_xgb)\n",
    "fpr_jax, tpr_jax, _ = roc_curve(y_test, y_score_jax)\n",
    "fpr_torch, tpr_torch, _ = roc_curve(y_test, y_score_torch)\n",
    "\n",
    "fig, axs = plt.subplots(ncols=3, figsize=(15, 3))\n",
    "\n",
    "sns.lineplot(x=fpr_xgb, y=tpr_xgb, ax=axs[0])\n",
    "axs[0].set_title(\"XGB ROC Curve\")\n",
    "\n",
    "sns.lineplot(x=fpr_jax, y=tpr_jax, ax=axs[1])\n",
    "axs[1].set_title(\"Jax ROC Curve\")\n",
    "\n",
    "sns.lineplot(x=fpr_torch, y=tpr_torch, ax=axs[2])\n",
    "axs[2].set_title(\"Torch ROC Curve\")\n",
    "\n",
    "if capture_metrics:\n",
    "    wandb.log({\"roc_curve\": wandb.Image(plt)})"
   ]
  },
  {
   "cell_type": "code",
   "execution_count": null,
   "id": "d7668afe-3bc8-4fa2-aa30-656a4ddbbe55",
   "metadata": {},
   "outputs": [],
   "source": [
    "if capture_metrics:\n",
    "    wandb.finish()"
   ]
  },
  {
   "cell_type": "code",
   "execution_count": null,
   "id": "1f231c76-2e7b-4bb9-b42e-8c24a8b47857",
   "metadata": {},
   "outputs": [],
   "source": []
  }
 ],
 "metadata": {
  "kernelspec": {
   "display_name": "Python 3 (ipykernel)",
   "language": "python",
   "name": "python3"
  },
  "language_info": {
   "codemirror_mode": {
    "name": "ipython",
    "version": 3
   },
   "file_extension": ".py",
   "mimetype": "text/x-python",
   "name": "python",
   "nbconvert_exporter": "python",
   "pygments_lexer": "ipython3",
   "version": "3.12.3"
  }
 },
 "nbformat": 4,
 "nbformat_minor": 5
}
