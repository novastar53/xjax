{
 "cells": [
  {
   "cell_type": "markdown",
   "metadata": {},
   "source": [
    "# How and Why does Self Attention Work? "
   ]
  },
  {
   "cell_type": "markdown",
   "metadata": {},
   "source": [
    "## Stacking Non-Linear Transformations"
   ]
  },
  {
   "cell_type": "markdown",
   "metadata": {},
   "source": [
    "The prevailing paradigm in machine learning is to stack sets of non-linear transformation, initially on the input data, and then on the outputs successively. Each transformation is called a layer. \"Deep\" architectures are so called because they have many layers -- for example, the GPT-3 model trained at OpenAI had 96 layers in total. \n",
    "\n",
    "Many of the key breakthroughs in recent years have focused on resolving the problems that crop up while training deep architectures. I have covered a few of these in previous posts, such as [Batch Normalization](...) and [Dropout](...).\n",
    "\n",
    "The earliest deep-learning architecture was what is now called a Feed-Forward Network, which in its current mature formulation, consists of a linear operation followed by a non-linear activation function $(\\sigma)$ such as ReLU (Rectified Linear Unit).\n",
    "\n",
    "$$\n",
    "f(\\bold{x}) = \\sigma(\\bold{Wx} + b)\n",
    "$$\n",
    "\n",
    "\n",
    "<img src=\"nn.svg\" alt=\"Feed Forward Network\" style=\"width:500px;\"/>"
   ]
  },
  {
   "cell_type": "markdown",
   "metadata": {},
   "source": [
    "Another popular architecture used primarily in computer vision is the Convolutional Neural Network (CNN), whose basic transformation is the convolution followed by an activation function. The idea here is that the model can learn to detect features in an image by performing non-linear transformations on small patches of the image. Then, just like the basic Feed-Forward network, the same operation can be performed on the outputs successively.\n",
    "\n",
    "\n",
    "<img src=\"cnn.svg\" alt=\"Feed Forward Network\" style=\"width:800px;\"/>\n",
    "\n",
    "I won't go into to much detail on these here.\n"
   ]
  },
  {
   "cell_type": "markdown",
   "metadata": {},
   "source": [
    "## A New Transformation"
   ]
  },
  {
   "cell_type": "markdown",
   "metadata": {},
   "source": [
    "The idea of self-attention developed out of the sequence-to-sequence model architectures which were used primarily for machine translation. Here, the goal was to learn a single representation for an input sentence (\"encode\"), then use it to generate a translation (\"decode\").\n",
    "\n",
    "It however proved difficult to compress the information needed to translate a long sentence into a single representation. \n",
    "\n",
    "Bahadanau et. al. (2014) introduced the concept of attention -- the model could learn to use parts of the input sentence (\"attend\") directly while decoding rather than rely solely on the learnt representation. Parikh et al. (2016) realized that the attention operation itself could be used for NLP tasks such as entailment. Lin et al. (2017) introduced the concept of self-attention to perform a variety of NLP tasks. \n",
    "\n",
    "In my earlier post on [Nadaraya-Watson Regression](...), we saw how this classic non-parametric technique can be interpreted as an early form of attention. \n",
    "\n",
    "Vaswani el al. (2017) realized that the self-attention mechanism could be used as the basic non-linear transformation for sequences of variable length. This also allowed the model to process tokens in parallel by incorporating positional information (check out my post on positional embeddings [here](...)). By avoiding having to explicitly process each token in sequence, it became possible to train much deeper networks. \n",
    "\n",
    "\n"
   ]
  },
  {
   "cell_type": "markdown",
   "metadata": {},
   "source": [
    "## So What Exactly is Self Attention?\n",
    "\n"
   ]
  },
  {
   "cell_type": "markdown",
   "metadata": {},
   "source": [
    "TODO\n"
   ]
  },
  {
   "cell_type": "markdown",
   "metadata": {},
   "source": [
    "## Let's See If it Works\n",
    "\n",
    "Let's train a sentiment classifier. For our dataset, we will be using Yelp review dataset with GloVE embeddings. Our baseline model is a simple feedforward network that uses an average of the word embeddings. The candidate model will use an additional self-attention layer. \n",
    "\n"
   ]
  },
  {
   "cell_type": "markdown",
   "metadata": {},
   "source": [
    "### Let's start by loading the dataset"
   ]
  },
  {
   "cell_type": "code",
   "execution_count": 55,
   "metadata": {},
   "outputs": [
    {
     "name": "stderr",
     "output_type": "stream",
     "text": [
      "[nltk_data] Downloading package movie_reviews to\n",
      "[nltk_data]     /Users/vikram/nltk_data...\n",
      "[nltk_data]   Package movie_reviews is already up-to-date!\n"
     ]
    }
   ],
   "source": [
    "import nltk\n",
    "nltk.download('movie_reviews')\n",
    "from nltk.corpus import movie_reviews\n",
    "\n",
    "import random\n",
    "\n",
    "## loading corpus\n",
    "#raw_train_data = [(' '.join(movie_reviews.words(fileid)), category)\n",
    "#             for category in movie_reviews.categories()\n",
    "#             for fileid in movie_reviews.fileids(category)]\n",
    "#random.shuffle(raw_train_data)  #in-place shuffle"
   ]
  },
  {
   "cell_type": "code",
   "execution_count": 3,
   "metadata": {},
   "outputs": [
    {
     "name": "stderr",
     "output_type": "stream",
     "text": [
      "/Users/vikram/dev/xjax/.venv/lib/python3.11/site-packages/tqdm/auto.py:21: TqdmWarning: IProgress not found. Please update jupyter and ipywidgets. See https://ipywidgets.readthedocs.io/en/stable/user_install.html\n",
      "  from .autonotebook import tqdm as notebook_tqdm\n"
     ]
    },
    {
     "name": "stdout",
     "output_type": "stream",
     "text": [
      "25000 25000\n"
     ]
    }
   ],
   "source": [
    "from datasets import load_dataset\n",
    "import tensorflow_datasets as tfds\n",
    "\n",
    "# Load the SST-2 dataset\n",
    "#raw_train_data, raw_test_data = tfds.load(\"glue/sst2\", split=[\"train\", \"test\"])\n",
    "# Load IMDb dataset from Hugging Face\n",
    "raw_train_data, raw_test_data = load_dataset(\"imdb\", split=[\"train\", \"test\"])\n",
    "print(len(raw_train_data), len(raw_test_data))"
   ]
  },
  {
   "cell_type": "markdown",
   "metadata": {},
   "source": [
    "Let's look at some reviews"
   ]
  },
  {
   "cell_type": "code",
   "execution_count": 4,
   "metadata": {
    "tags": [
     "hide-input"
    ]
   },
   "outputs": [
    {
     "data": {
      "text/html": [
       "\n",
       "<style>\n",
       "    .custom-paragraph {\n",
       "        width: 600px;\n",
       "        margin: auto;\n",
       "        line-height: 1.6;\n",
       "    }\n",
       "</style>\n"
      ],
      "text/plain": [
       "<IPython.core.display.HTML object>"
      ]
     },
     "metadata": {},
     "output_type": "display_data"
    }
   ],
   "source": [
    "from IPython.display import display, HTML\n",
    "\n",
    "display(HTML(\"\"\"\n",
    "<style>\n",
    "    .custom-paragraph {\n",
    "        width: 600px;\n",
    "        margin: auto;\n",
    "        line-height: 1.6;\n",
    "    }\n",
    "</style>\n",
    "\"\"\"))"
   ]
  },
  {
   "cell_type": "code",
   "execution_count": 5,
   "metadata": {
    "tags": [
     "hide-input"
    ]
   },
   "outputs": [
    {
     "data": {
      "text/html": [
       "<div class=\"custom-paragraph\">\n",
       "              <p><b>[Negative]</b> I rented I AM CURIOUS-YELLOW from my video store because of all the controversy that surrounded it when it was first released in 1967. I also heard that at first it was seized by U.S. customs if it ever tried to enter this country, therefore being a fan of films considered \"controversial\" I really had to see this for myself.<br /><br />The plot is centered around a young Swedish drama student named Lena who wants to learn everything she can about life. In particular she wants to focus her attentions to making some sort of documentary on what the average Swede thought about certain political issues such as the Vietnam War and race issues in the United States. In between asking politicians and ordinary denizens of Stockholm about their opinions on politics, she has sex with her drama teacher, classmates, and married men.<br /><br />What kills me about I AM CURIOUS-YELLOW is that 40 years ago, this was considered pornographic. Really, the sex and nudity scenes are few and far between, even then it's not shot like some cheaply made porno. While my countrymen mind find it shocking, in reality sex and nudity are a major staple in Swedish cinema. Even Ingmar Bergman, arguably their answer to good old boy John Ford, had sex scenes in his films.<br /><br />I do commend the filmmakers for the fact that any sex shown in the film is shown for artistic purposes rather than just to shock people and make money to be shown in pornographic theaters in America. I AM CURIOUS-YELLOW is a good film for anyone wanting to study the meat and potatoes (no pun intended) of Swedish cinema. But really, this film doesn't have much of a plot.</p>\n",
       "             </div><div class=\"custom-paragraph\">\n",
       "              <p><b>[Negative]</b> \"I Am Curious: Yellow\" is a risible and pretentious steaming pile. It doesn't matter what one's political views are because this film can hardly be taken seriously on any level. As for the claim that frontal male nudity is an automatic NC-17, that isn't true. I've seen R-rated films with male nudity. Granted, they only offer some fleeting views, but where are the R-rated films with gaping vulvas and flapping labia? Nowhere, because they don't exist. The same goes for those crappy cable shows: schlongs swinging in the breeze but not a clitoris in sight. And those pretentious indie movies like The Brown Bunny, in which we're treated to the site of Vincent Gallo's throbbing johnson, but not a trace of pink visible on Chloe Sevigny. Before crying (or implying) \"double-standard\" in matters of nudity, the mentally obtuse should take into account one unavoidably obvious anatomical difference between men and women: there are no genitals on display when actresses appears nude, and the same cannot be said for a man. In fact, you generally won't see female genitals in an American film in anything short of porn or explicit erotica. This alleged double-standard is less a double standard than an admittedly depressing ability to come to terms culturally with the insides of women's bodies.</p>\n",
       "             </div><div class=\"custom-paragraph\">\n",
       "              <p><b>[Negative]</b> If only to avoid making this type of film in the future. This film is interesting as an experiment but tells no cogent story.<br /><br />One might feel virtuous for sitting thru it because it touches on so many IMPORTANT issues but it does so without any discernable motive. The viewer comes away with no new perspectives (unless one comes up with one while one's mind wanders, as it will invariably do during this pointless film).<br /><br />One might better spend one's time staring out a window at a tree growing.<br /><br /></p>\n",
       "             </div><div class=\"custom-paragraph\">\n",
       "              <p><b>[Negative]</b> This film was probably inspired by Godard's Masculin, féminin and I urge you to see that film instead.<br /><br />The film has two strong elements and those are, (1) the realistic acting (2) the impressive, undeservedly good, photo. Apart from that, what strikes me most is the endless stream of silliness. Lena Nyman has to be most annoying actress in the world. She acts so stupid and with all the nudity in this film,...it's unattractive. Comparing to Godard's film, intellectuality has been replaced with stupidity. Without going too far on this subject, I would say that follows from the difference in ideals between the French and the Swedish society.<br /><br />A movie of its time, and place. 2/10.</p>\n",
       "             </div><div class=\"custom-paragraph\">\n",
       "              <p><b>[Negative]</b> Oh, brother...after hearing about this ridiculous film for umpteen years all I can think of is that old Peggy Lee song..<br /><br />\"Is that all there is??\" ...I was just an early teen when this smoked fish hit the U.S. I was too young to get in the theater (although I did manage to sneak into \"Goodbye Columbus\"). Then a screening at a local film museum beckoned - Finally I could see this film, except now I was as old as my parents were when they schlepped to see it!!<br /><br />The ONLY reason this film was not condemned to the anonymous sands of time was because of the obscenity case sparked by its U.S. release. MILLIONS of people flocked to this stinker, thinking they were going to see a sex film...Instead, they got lots of closeups of gnarly, repulsive Swedes, on-street interviews in bland shopping malls, asinie political pretension...and feeble who-cares simulated sex scenes with saggy, pale actors.<br /><br />Cultural icon, holy grail, historic artifact..whatever this thing was, shred it, burn it, then stuff the ashes in a lead box!<br /><br />Elite esthetes still scrape to find value in its boring pseudo revolutionary political spewings..But if it weren't for the censorship scandal, it would have been ignored, then forgotten.<br /><br />Instead, the \"I Am Blank, Blank\" rhythymed title was repeated endlessly for years as a titilation for porno films (I am Curious, Lavender - for gay films, I Am Curious, Black - for blaxploitation films, etc..) and every ten years or so the thing rises from the dead, to be viewed by a new generation of suckers who want to see that \"naughty sex film\" that \"revolutionized the film industry\"...<br /><br />Yeesh, avoid like the plague..Or if you MUST see it - rent the video and fast forward to the \"dirty\" parts, just to get it over with.<br /><br /></p>\n",
       "             </div>"
      ],
      "text/plain": [
       "<IPython.core.display.HTML object>"
      ]
     },
     "metadata": {},
     "output_type": "display_data"
    }
   ],
   "source": [
    "from itertools import islice\n",
    "n_samples = 5\n",
    "samples = list(islice(raw_train_data, n_samples))\n",
    "#samples = list(raw_train_data.take(n_samples).cache())\n",
    "html = \"\"\n",
    "for d in samples:\n",
    "    text = d['text']\n",
    "    label = \"Positive\" if d['label'] == 1 else \"Negative\"\n",
    "    html += f\"\"\"<div class=\"custom-paragraph\">\n",
    "              <p><b>[{label}]</b> {text}</p>\n",
    "             </div>\"\"\"\n",
    "display(HTML(html))"
   ]
  },
  {
   "cell_type": "markdown",
   "metadata": {},
   "source": [
    "Preprocess the data"
   ]
  },
  {
   "cell_type": "code",
   "execution_count": 6,
   "metadata": {},
   "outputs": [
    {
     "name": "stderr",
     "output_type": "stream",
     "text": [
      "[nltk_data] Downloading package punkt to /Users/vikram/nltk_data...\n",
      "[nltk_data]   Package punkt is already up-to-date!\n"
     ]
    },
    {
     "data": {
      "text/plain": [
       "True"
      ]
     },
     "execution_count": 6,
     "metadata": {},
     "output_type": "execute_result"
    }
   ],
   "source": [
    "import nltk\n",
    "from nltk.tokenize import word_tokenize\n",
    "from collections import Counter\n",
    "\n",
    "nltk.download('punkt')"
   ]
  },
  {
   "cell_type": "code",
   "execution_count": 7,
   "metadata": {},
   "outputs": [
    {
     "name": "stdout",
     "output_type": "stream",
     "text": [
      "Processing item 24999\r"
     ]
    }
   ],
   "source": [
    "import re\n",
    "from collections import Counter\n",
    "\n",
    "def clean_paragraph(text):\n",
    "    # Keep only alphanumeric characters, punctuation, and spaces.\n",
    "    text = text.lower()\n",
    "    text = re.sub(r'<br\\s*/?>', ' ', text, flags=re.IGNORECASE) # Remove <br/> tags\n",
    "    text = re.sub(r'[-]', ' ', text, flags=re.IGNORECASE) # Replace hyphens with spaces\n",
    "    text = re.sub(r'[.]', ' . ', text) # Pad dots and periods\n",
    "    cleaned_text = re.sub(r'[^a-z0-9\\s\\.,!?;:-]', '', text) # Keep only alphanumeric and punctuation\n",
    "    return cleaned_text\n",
    "\n",
    "def process_raw_data(raw_data):\n",
    "    word_counts = Counter()\n",
    "    processed_data = []\n",
    "    for i, item in enumerate(raw_data):\n",
    "        print(f\"Processing item {i}\", end=\"\\r\")\n",
    "        # Split into sentences\n",
    "        text = item['text'] #.numpy().decode('utf-8')\n",
    "        #text = clean_paragraph(item[0])\n",
    "        #label = 0 if item[1] == 'neg' else 1\n",
    "        label = item['label']\n",
    "        # Tokenize\n",
    "        tokens = word_tokenize(text)\n",
    "        word_counts.update(tokens)\n",
    "        processed_data.append((tokens, label))\n",
    "        # Update indices\n",
    "    sorted_counts = word_counts.most_common()\n",
    "    return sorted_counts, processed_data\n",
    "\n",
    "\n",
    "train_word_counts, clean_train_data = process_raw_data(raw_train_data)\n",
    "#test_word_counts, clean_test_data = process_raw_data(raw_test_data)"
   ]
  },
  {
   "cell_type": "code",
   "execution_count": 8,
   "metadata": {},
   "outputs": [
    {
     "data": {
      "text/plain": [
       "335"
      ]
     },
     "execution_count": 8,
     "metadata": {},
     "output_type": "execute_result"
    }
   ],
   "source": [
    "len(clean_train_data[0][0])"
   ]
  },
  {
   "cell_type": "code",
   "execution_count": 9,
   "metadata": {},
   "outputs": [
    {
     "data": {
      "image/png": "[encoded data removed]",
      "text/plain": [
       "<Figure size 640x480 with 1 Axes>"
      ]
     },
     "metadata": {},
     "output_type": "display_data"
    }
   ],
   "source": [
    "import matplotlib.pyplot as plt \n",
    "\n",
    "sentence_lengths = [len(l[0]) for l in clean_train_data ]\n",
    "\n",
    "plt.hist(sentence_lengths)\n",
    "plt.legend(['Sentence Lengths'])\n",
    "plt.show()"
   ]
  },
  {
   "cell_type": "code",
   "execution_count": 10,
   "metadata": {},
   "outputs": [],
   "source": [
    "VOCAB_SIZE = 20000\n",
    "vocab = [ '<UNK>', '<PAD>' ]\n",
    "vocab += [ t[0] for t in train_word_counts[:VOCAB_SIZE] ]\n",
    "VOCAB_SIZE = len(vocab)"
   ]
  },
  {
   "cell_type": "code",
   "execution_count": 11,
   "metadata": {},
   "outputs": [],
   "source": [
    "tok_to_idx = {}\n",
    "for i, tok in enumerate(vocab): \n",
    "    tok_to_idx[tok] = i"
   ]
  },
  {
   "cell_type": "markdown",
   "metadata": {},
   "source": [
    "Let's build the dataset"
   ]
  },
  {
   "cell_type": "code",
   "execution_count": 16,
   "metadata": {},
   "outputs": [
    {
     "name": "stdout",
     "output_type": "stream",
     "text": [
      "(25000, 200) (25000,)\n"
     ]
    }
   ],
   "source": [
    "import jax\n",
    "import jax.numpy as jnp\n",
    "\n",
    "SEQUENCE_LENGTH = 200\n",
    "\n",
    "def get_idxs(tokens):\n",
    "    # Substitute tokens with indices\n",
    "    idxs = []\n",
    "    for tok in tokens:\n",
    "        if tok in tok_to_idx:\n",
    "            idxs.append(tok_to_idx[tok])\n",
    "        else:\n",
    "            idxs.append(tok_to_idx['<UNK>'])\n",
    "\n",
    "    return idxs\n",
    "\n",
    "\n",
    "def split_into_chunks(idxs, chunk_size):\n",
    "    chunks =  [idxs[i:i+chunk_size] for i in range (0, len(idxs), chunk_size)]\n",
    "    for c in chunks:\n",
    "        while len(c) < chunk_size:\n",
    "            c.append(tok_to_idx['<PAD>'])\n",
    "    return chunks\n",
    "\n",
    "\n",
    "def generate_dataset(data):\n",
    "\n",
    "    X = []\n",
    "    Y = []\n",
    "    for i, x in enumerate(data):\n",
    "        print(f\"Processing {i}\", end=\"\\r\")\n",
    "        tokens = x[0]\n",
    "        label = x[1]\n",
    "        idxs = get_idxs(tokens)\n",
    "        if len(idxs) < SEQUENCE_LENGTH: \n",
    "            idxs += [0]*(SEQUENCE_LENGTH - len(idxs))\n",
    "        elif len(idxs) > SEQUENCE_LENGTH:\n",
    "            idxs = idxs[:SEQUENCE_LENGTH]\n",
    "\n",
    "        X.append(idxs)\n",
    "        Y.append(label)\n",
    "    X = jnp.array(X)\n",
    "    Y = jnp.array(Y)\n",
    "    return X, Y\n",
    "\n",
    "\n",
    "X_train, Y_train = generate_dataset(clean_train_data)\n",
    "print(X_train.shape, Y_train.shape)\n",
    "#X_test, Y_test = generate_dataset(clean_test_data)\n",
    "#print(X_test.shape, Y_test.shape)"
   ]
  },
  {
   "cell_type": "code",
   "execution_count": 39,
   "metadata": {},
   "outputs": [
    {
     "name": "stdout",
     "output_type": "stream",
     "text": [
      "25000 Training sequences\n",
      "25000 Validation sequences\n"
     ]
    },
    {
     "data": {
      "text/plain": [
       "(25000, 200)"
      ]
     },
     "execution_count": 39,
     "metadata": {},
     "output_type": "execute_result"
    }
   ],
   "source": [
    "import keras\n",
    "\n",
    "vocab_size = 20000  # Only consider the top 20k words\n",
    "maxlen = 200  # Only consider the first 200 words of each movie review\n",
    "(X_train, Y_train), (X_val, Y_val) = keras.datasets.imdb.load_data(num_words=vocab_size)\n",
    "print(len(X_train), \"Training sequences\")\n",
    "print(len(X_val), \"Validation sequences\")\n",
    "X_train = keras.utils.pad_sequences(X_train, maxlen=maxlen)\n",
    "X_val = keras.utils.pad_sequences(X_val, maxlen=maxlen)\n",
    "\n",
    "X_train = jnp.array(X_train)\n",
    "X_train.shape"
   ]
  },
  {
   "cell_type": "code",
   "execution_count": 49,
   "metadata": {},
   "outputs": [],
   "source": [
    "import jax\n",
    "import flax\n",
    "import jax.numpy as jnp\n",
    "from flax import linen as nn\n",
    "from typing import Any\n",
    "\n",
    "\n",
    "def sinusoidal_init(max_len=2048, min_scale=1.0, max_scale=10000.0):\n",
    "  \"\"\"1D Sinusoidal Position Embedding Initializer.\n",
    "\n",
    "  Args:\n",
    "      max_len: maximum possible length for the input.\n",
    "      min_scale: float: minimum frequency-scale in sine grating.\n",
    "      max_scale: float: maximum frequency-scale in sine grating.\n",
    "\n",
    "  Returns:\n",
    "      output: init function returning `(1, max_len, d_feature)`\n",
    "  \"\"\"\n",
    "\n",
    "  def init(key, shape, dtype=np.float32):\n",
    "    \"\"\"Sinusoidal init.\"\"\"\n",
    "    del key, dtype\n",
    "    d_feature = shape[-1]\n",
    "    pe = np.zeros((max_len, d_feature), dtype=np.float32)\n",
    "    position = np.arange(0, max_len)[:, np.newaxis]\n",
    "    scale_factor = -np.log(max_scale / min_scale) / (d_feature // 2 - 1)\n",
    "    div_term = min_scale * np.exp(np.arange(0, d_feature // 2) * scale_factor)\n",
    "    pe[:, : d_feature // 2] = np.sin(position * div_term)\n",
    "    pe[:, d_feature // 2 : 2 * (d_feature // 2)] = np.cos(position * div_term)\n",
    "    pe = pe[np.newaxis, :, :]  # [1, max_len, d_feature]\n",
    "    return jnp.array(pe)\n",
    "\n",
    "  return init\n",
    "\n",
    "class TransformerEncoderBlock(nn.Module):\n",
    "    hidden_dim: int\n",
    "    num_heads: int\n",
    "    mlp_dim: int\n",
    "\n",
    "    def setup(self):\n",
    "        self.attention = nn.SelfAttention(\n",
    "            num_heads=self.num_heads,\n",
    "            qkv_features=self.hidden_dim\n",
    "        )\n",
    "        self.mlp = nn.Sequential([\n",
    "            nn.Dense(self.mlp_dim),\n",
    "            nn.gelu,\n",
    "            nn.Dense(self.hidden_dim)\n",
    "        ])\n",
    "        self.layernorm1 = nn.LayerNorm()\n",
    "        self.layernorm2 = nn.LayerNorm()\n",
    "        self.dropout1 = nn.Dropout(0.1)\n",
    "        self.dropout2 = nn.Dropout(0.1)\n",
    "\n",
    "    def __call__(self, x):\n",
    "        # Self-attention block\n",
    "        residual = x\n",
    "        x = self.attention(x)\n",
    "        #x = self.dropout1(x)\n",
    "        x = self.layernorm1(x + residual)\n",
    "\n",
    "        # MLP block\n",
    "        residual = x\n",
    "        x = self.mlp(x)\n",
    "        #x = self.dropout2(x)\n",
    "        return self.layernorm2(x + residual)\n",
    "\n",
    "class SentimentTransformer(nn.Module):\n",
    "    max_seq_len: int \n",
    "    hidden_dim: int\n",
    "    num_heads: int\n",
    "    mlp_dim: int\n",
    "    num_layers: int\n",
    "    num_classes: int\n",
    "    pretrained_embeddings: jnp.ndarray\n",
    "\n",
    "    def setup(self):\n",
    "        self.embedding = nn.Embed(\n",
    "            num_embeddings=self.pretrained_embeddings.shape[0],\n",
    "            features=self.hidden_dim,\n",
    "            #embedding_init=lambda *_: self.pretrained_embeddings,\n",
    "        )\n",
    "        self.pos_embedding = nn.Embed(\n",
    "            num_embeddings = self.max_seq_len,\n",
    "            features=self.hidden_dim,\n",
    "        )\n",
    "        self.encoder_layers = [\n",
    "            TransformerEncoderBlock(\n",
    "                hidden_dim=self.hidden_dim,\n",
    "                num_heads=self.num_heads,\n",
    "                mlp_dim=self.mlp_dim\n",
    "            ) for _ in range(self.num_layers)\n",
    "        ]\n",
    "        self.dense = nn.Dense(256)\n",
    "        self.classifier = nn.Dense(self.num_classes)\n",
    "\n",
    "    def __call__(self, inputs):\n",
    "        outputs = {}\n",
    "        # Embedding lookup\n",
    "        #x = jax.lax.stop_gradient(self.embedding(inputs))\n",
    "        x = self.embedding(inputs)\n",
    "\n",
    "        # Calculate positional embeddings\n",
    "        positions = jnp.arange(self.max_seq_len)\n",
    "        pos_x = self.pos_embedding(positions)\n",
    "        pos_x = jnp.expand_dims(pos_x, axis=0)\n",
    "        pos_x = jnp.repeat(pos_x, repeats=x.shape[0], axis=0)\n",
    "\n",
    "        x = x + pos_x\n",
    "        \n",
    "        # Transformer encoder blocks\n",
    "        for encoder in self.encoder_layers:\n",
    "            x = encoder(x)\n",
    "        \n",
    "        # Global average pooling\n",
    "        x = jnp.mean(x, axis=1)\n",
    "        #x = jnp.reshape(x, (x.shape[0], -1)) # b x ld\n",
    "        x = self.dense(x)\n",
    "        \n",
    "        # Classification layer\n",
    "        logits = self.classifier(x)\n",
    "        return logits, outputs\n",
    "\n"
   ]
  },
  {
   "cell_type": "markdown",
   "metadata": {},
   "source": [
    "Let's define the baseline model"
   ]
  },
  {
   "cell_type": "code",
   "execution_count": 47,
   "metadata": {},
   "outputs": [],
   "source": [
    "import jax\n",
    "import jax.numpy as jnp\n",
    "import flax.linen as nn\n",
    "from flax.training import train_state\n",
    "import optax\n",
    "\n",
    "class EmbeddingModel(nn.Module):\n",
    "    embed_matrix: jnp.ndarray  # Preloaded pretrained embeddings\n",
    "    d: int\n",
    "    vocab_size: int\n",
    "    num_classes: int\n",
    "\n",
    "    def setup(self):\n",
    "        self.embedding_layer = nn.Embed(\n",
    "            num_embeddings=self.vocab_size,\n",
    "            features=self.d,\n",
    "            embedding_init=lambda *_: self.embed_matrix\n",
    "        )\n",
    "        self.dense_layer = nn.Dense(features=self.num_classes)\n",
    "\n",
    "    def __call__(self, x):\n",
    "        outputs = {}\n",
    "        # Embed the input tokens\n",
    "        x = self.embedding_layer(x)\n",
    "        #x = jax.lax.stop_gradient(self.embedding_layer(x))\n",
    "        #x = jnp.mean(x, axis=1)\n",
    "        seq_len = x.shape[1]\n",
    "        n = 2\n",
    "        #n_gram_avgs = [\n",
    "        #    jnp.mean(x[:, i:i+n], axis=1) for i in range(seq_len - n + 1)\n",
    "        #]\n",
    "        #x = jnp.stack(n_gram_avgs, axis=1)\n",
    "\n",
    "        x = jnp.reshape(x, (x.shape[0], -1))\n",
    "        logits = self.dense_layer(x)\n",
    "        return logits, outputs\n",
    "\n",
    "\n",
    "class TransformerModel(nn.Module):\n",
    "    max_seq_len: int\n",
    "    embed_matrix: jnp.ndarray  # Preloaded pretrained embeddings\n",
    "    d: int\n",
    "    vocab_size: int\n",
    "    num_classes: int\n",
    "\n",
    "    @nn.compact\n",
    "    def __call__(self, x):\n",
    "        outputs = {}\n",
    "        # Embed the input tokens\n",
    "        embedding_layer = nn.Embed(\n",
    "            num_embeddings=self.vocab_size,\n",
    "            features=100,\n",
    "            #embedding_init=lambda *_: self.embed_matrix\n",
    "        )\n",
    "        x = jax.lax.stop_gradient(embedding_layer(x))\n",
    "\n",
    "        # Calculate positional embeddings\n",
    "\n",
    "        pos_embedding = nn.Embed(\n",
    "            num_embeddings = self.max_seq_len,\n",
    "            features=100,\n",
    "        )\n",
    "\n",
    "        positions = jnp.arange(self.max_seq_len)\n",
    "        pos_x = pos_embedding(positions)\n",
    "        pos_x = jnp.expand_dims(pos_x, axis=0)\n",
    "        pos_x = jnp.repeat(pos_x, repeats=x.shape[0], axis=0)\n",
    "\n",
    "        x = x + pos_x\n",
    "\n",
    "        q = nn.Dense(self.d)(x) # b x l x d\n",
    "        k = nn.Dense(self.d)(x) # b x l x d\n",
    "        v = nn.Dense(self.d)(x)  # b x l x d\n",
    "\n",
    "        k = jnp.transpose(k, (0, 2, 1)) # b x d x l\n",
    "        scores = q @ k / jnp.sqrt(self.d) # b x l x l\n",
    "        weights = jax.nn.softmax(scores, axis=1) # b x l x l\n",
    "        outputs[\"scores\"] = scores\n",
    "        outputs[\"weights\"] = weights\n",
    "        x = weights @ v # b x l x d\n",
    "        #x = jnp.mean(x, axis=1) # b x d\n",
    "        x = jnp.reshape(x, (x.shape[0], -1)) # b x ld\n",
    "        x = nn.Dense(256)(x)\n",
    "        logits = nn.Dense(self.num_classes)(x) # b x 1\n",
    "\n",
    "        return logits, outputs\n",
    "\n"
   ]
  },
  {
   "cell_type": "markdown",
   "metadata": {},
   "source": [
    "### Let's train the model"
   ]
  },
  {
   "cell_type": "code",
   "execution_count": 53,
   "metadata": {},
   "outputs": [
    {
     "name": "stdout",
     "output_type": "stream",
     "text": [
      "Epoch 1, Train Loss: 0.6921, Train Accuracy: 0.5234\n",
      "Epoch 2, Train Loss: 0.6937, Train Accuracy: 0.4844\n"
     ]
    }
   ],
   "source": [
    "import jax\n",
    "import jax.numpy as jnp\n",
    "import flax.linen as nn\n",
    "from flax.training import train_state\n",
    "import optax\n",
    "\n",
    "# Function to count the number of parameters\n",
    "def count_parameters(params):\n",
    "    return sum(jnp.prod(jnp.array(p.shape)) for p in jax.tree_util.tree_leaves(params))\n",
    "\n",
    "\n",
    "# Define loss function and metrics\n",
    "def binary_cross_entropy_loss(logits, labels):\n",
    "    \"\"\"Binary cross-entropy loss.\"\"\"\n",
    "    loss = optax.sigmoid_binary_cross_entropy(logits, labels)\n",
    "    return jnp.mean(loss)\n",
    "\n",
    "#@jax.jit\n",
    "def compute_metrics(logits, labels):\n",
    "    \"\"\"Compute accuracy and loss metrics.\"\"\"\n",
    "    loss = binary_cross_entropy_loss(logits, labels)\n",
    "    predictions = (logits > 0).astype(jnp.float32)  # Sigmoid threshold at 0.5\n",
    "    accuracy = jnp.mean(predictions == labels)\n",
    "    return {'loss': loss, 'accuracy': accuracy}, predictions\n",
    "\n",
    "\n",
    "\n",
    "# Create the training state\n",
    "def create_train_state(rng, model, dummy_input, learning_rate=5e-3):\n",
    "    \"\"\"Initialize the model and optimizer.\"\"\"\n",
    "    params = model.init(rng, dummy_input)  # Model parameter initialization\n",
    "    num_params = count_parameters(params)\n",
    "    print(f\"Number of parameters: {num_params}\")\n",
    "    tx = optax.adam(learning_rate)         # Adam optimizer\n",
    "    return train_state.TrainState.create(apply_fn=model.apply, params=params, tx=tx)\n",
    "\n",
    "@jax.jit\n",
    "def train_step(state, batch):\n",
    "    \"\"\"Perform a single training step.\"\"\"\n",
    "    inputs, labels = batch\n",
    "\n",
    "    def loss_fn(params):\n",
    "        logits, _ = state.apply_fn(params, inputs)\n",
    "        loss = binary_cross_entropy_loss(logits, labels)\n",
    "        return loss \n",
    "\n",
    "    # Compute gradients\n",
    "    outputs, grads = jax.value_and_grad(loss_fn)(state.params)\n",
    "    # Update parameters\n",
    "    state = state.apply_gradients(grads=grads)\n",
    "\n",
    "    # Compute metrics\n",
    "    logits, outputs = state.apply_fn(state.params, inputs)\n",
    "    metrics, preds = compute_metrics(logits, labels)\n",
    "    return grads, state, metrics, outputs, preds\n",
    "\n",
    "@jax.jit\n",
    "def eval_step(state, batch):\n",
    "    \"\"\"Evaluate the model on a batch.\"\"\"\n",
    "    inputs, labels = batch\n",
    "    logits, outputs = state.apply_fn(state.params, inputs)\n",
    "    metrics, preds =  compute_metrics(logits, labels)\n",
    "    return metrics, outputs \n",
    "\n",
    "\n",
    "NUM_CLASSES = 1     # Example: Binary classification (e.g., positive/negative sentiment)\n",
    "NUM_EPOCHS = 2\n",
    "BATCH_SIZE = 128\n",
    "D = 32\n",
    "# Initialize model and state\n",
    "#model = TransformerModel(SEQUENCE_LENGTH, embedding_matrix, D, VOCAB_SIZE, NUM_CLASSES)\n",
    "model =  SentimentTransformer(max_seq_len=SEQUENCE_LENGTH, \n",
    "                              hidden_dim=100, num_heads=2, \n",
    "                              mlp_dim=48, num_layers=3, num_classes=NUM_CLASSES, pretrained_embeddings=embedding_matrix)\n",
    "\n",
    "rng = jax.random.PRNGKey(42)\n",
    "rng, init_rng = jax.random.split(rng)\n",
    "dummy_input = jax.random.randint(rng, (BATCH_SIZE, SEQUENCE_LENGTH), 0, VOCAB_SIZE)\n",
    "state = create_train_state(init_rng, model, dummy_input)\n",
    "\n",
    "grads_log = []\n",
    "outputs_log = []\n",
    "preds_log = []\n",
    "acc_log = []\n",
    "# Training loop\n",
    "for epoch in range(NUM_EPOCHS):\n",
    "    # Training\n",
    "    TRAIN_SIZE = X_train.shape[0]\n",
    "    train_metrics = {'loss': 0, 'accuracy': 0}\n",
    "    rng, sub_rng = jax.random.split(rng)\n",
    "    perm = jax.random.permutation(rng, TRAIN_SIZE)\n",
    "    X_train_perm = X_train[perm]\n",
    "    Y_train_perm = Y_train[perm]\n",
    "\n",
    "    for i in range(TRAIN_SIZE // BATCH_SIZE):\n",
    "\n",
    "        X_batch = X_train_perm[i*BATCH_SIZE:(i+1)*BATCH_SIZE]\n",
    "        Y_batch = Y_train_perm[i*BATCH_SIZE:(i+1)*BATCH_SIZE]\n",
    "        idxs = perm[i*BATCH_SIZE:(i+1)*BATCH_SIZE]\n",
    "\n",
    "        grads, state, metrics, outputs, preds = train_step(state, (X_batch, Y_batch))\n",
    "        \n",
    "        acc_log.append(metrics[\"accuracy\"])\n",
    "        #grads_log.append(grads)\n",
    "        #outputs_log.append((outputs, idxs))\n",
    "        #preds_log.append(preds)\n",
    "\n",
    "    print(f\"Epoch {epoch + 1}, Train Loss: {metrics['loss']:.4f}, Train Accuracy: {metrics['accuracy']:.4f}\")\n",
    "\n"
   ]
  },
  {
   "cell_type": "code",
   "execution_count": 52,
   "metadata": {},
   "outputs": [
    {
     "data": {
      "text/plain": [
       "[<matplotlib.lines.Line2D at 0x3fcb76350>]"
      ]
     },
     "execution_count": 52,
     "metadata": {},
     "output_type": "execute_result"
    },
    {
     "data": {
      "image/png": "[encoded data removed]",
      "text/plain": [
       "<Figure size 640x480 with 1 Axes>"
      ]
     },
     "metadata": {},
     "output_type": "display_data"
    }
   ],
   "source": [
    "plt.plot(acc_log)"
   ]
  },
  {
   "cell_type": "markdown",
   "metadata": {},
   "source": []
  },
  {
   "cell_type": "code",
   "execution_count": null,
   "metadata": {},
   "outputs": [
    {
     "ename": "IndexError",
     "evalue": "list index out of range",
     "output_type": "error",
     "traceback": [
      "\u001b[0;31m---------------------------------------------------------------------------\u001b[0m",
      "\u001b[0;31mIndexError\u001b[0m                                Traceback (most recent call last)",
      "Cell \u001b[0;32mIn[17], line 6\u001b[0m\n\u001b[1;32m      3\u001b[0m \u001b[38;5;28miter\u001b[39m \u001b[38;5;241m=\u001b[39m \u001b[38;5;241m300\u001b[39m\n\u001b[1;32m      4\u001b[0m i \u001b[38;5;241m=\u001b[39m \u001b[38;5;241m8\u001b[39m\n\u001b[0;32m----> 6\u001b[0m outputs, idxs \u001b[38;5;241m=\u001b[39m \u001b[43moutputs_log\u001b[49m\u001b[43m[\u001b[49m\u001b[38;5;28;43miter\u001b[39;49m\u001b[43m]\u001b[49m\n\u001b[1;32m      7\u001b[0m pred \u001b[38;5;241m=\u001b[39m preds_log[\u001b[38;5;28miter\u001b[39m][i]\n\u001b[1;32m      9\u001b[0m dataset_idx \u001b[38;5;241m=\u001b[39m idxs[i]\n",
      "\u001b[0;31mIndexError\u001b[0m: list index out of range"
     ]
    }
   ],
   "source": [
    "import matplotlib.pyplot as plt\n",
    "\n",
    "iter = 300\n",
    "i = 8\n",
    "\n",
    "outputs, idxs = outputs_log[iter]\n",
    "pred = preds_log[iter][i]\n",
    "\n",
    "dataset_idx = idxs[i]\n",
    "sentence = X_train[dataset_idx]\n",
    "label = Y_train[dataset_idx]\n",
    "print(label, pred)\n",
    "sentence = [vocab[i] for i in sentence]\n",
    "\n",
    "weights = outputs['scores'][i]\n",
    "\n",
    "fig, axes = plt.subplots(1,1, figsize=(15,15))\n",
    "\n",
    "plt.imshow(weights, cmap='viridis', origin='lower')\n",
    "plt.colorbar()\n",
    "plt.xticks(ticks=np.arange(SEQUENCE_LENGTH), labels=sentence, rotation=45)\n",
    "plt.yticks(ticks=np.arange(SEQUENCE_LENGTH), labels=sentence, rotation=45)\n",
    "plt.show()"
   ]
  },
  {
   "cell_type": "markdown",
   "metadata": {
    "vscode": {
     "languageId": "plaintext"
    }
   },
   "source": [
    "\n"
   ]
  },
  {
   "cell_type": "markdown",
   "metadata": {},
   "source": [
    "### References:\n",
    "\n",
    "1. Bahdanau et al. 2015\n",
    "2. Rocktashel et al. 2016 Reasoning about Entailment with Neural Attention ()\n",
    "3. Parikh, A Decomposable Attention Model for Natural Language Inference\n",
    "4. GloVe, Pennington et al. (2014)\n",
    "5. Lin et al. A Structured Self-Attentive Sentence Embedding\n",
    "6. GloVe Embeddings"
   ]
  },
  {
   "cell_type": "markdown",
   "metadata": {},
   "source": []
  }
 ],
 "metadata": {
  "kernelspec": {
   "display_name": "Python 3 (ipykernel)",
   "language": "python",
   "name": "python3"
  },
  "language_info": {
   "codemirror_mode": {
    "name": "ipython",
    "version": 3
   },
   "file_extension": ".py",
   "mimetype": "text/x-python",
   "name": "python",
   "nbconvert_exporter": "python",
   "pygments_lexer": "ipython3",
   "version": "3.11.9"
  }
 },
 "nbformat": 4,
 "nbformat_minor": 4
}
